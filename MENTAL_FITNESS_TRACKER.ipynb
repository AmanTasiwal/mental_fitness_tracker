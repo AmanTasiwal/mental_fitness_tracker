{
 "cells": [
  {
   "cell_type": "markdown",
   "id": "2ec2f172",
   "metadata": {},
   "source": [
    "# MENTAL FITNESS TRACKER\n",
    "# Name: AMAN VERMA\n",
    "# EMAIL: 20DEC022@NITH.AC.IN\n",
    "# AICTE_B1_AI"
   ]
  },
  {
   "cell_type": "markdown",
   "id": "19b515a4",
   "metadata": {},
   "source": [
    "# Importing libraries"
   ]
  },
  {
   "cell_type": "code",
   "execution_count": null,
   "id": "4b5a1d98",
   "metadata": {
    "scrolled": true
   },
   "outputs": [],
   "source": [
    "import pandas as pd\n",
    "import seaborn as sns\n",
    "import numpy as np\n",
    "import matplotlib.pyplot as plt\n",
    "import plotly.express as px"
   ]
  },
  {
   "cell_type": "markdown",
   "id": "0e2e9912",
   "metadata": {},
   "source": [
    "# Data Preprocessing Start"
   ]
  },
  {
   "cell_type": "markdown",
   "id": "71bf6272",
   "metadata": {},
   "source": [
    "**Import Data**"
   ]
  },
  {
   "cell_type": "code",
   "execution_count": null,
   "id": "7e23c50c",
   "metadata": {
    "scrolled": true
   },
   "outputs": [],
   "source": [
    "df1 = pd.read_csv('https://raw.githubusercontent.com/AmanTasiwal/mental_fitness_tracker/main/mental-and-substance-use-as-share-of-disease-AI.csv')\n",
    "df2 = pd.read_csv('https://raw.githubusercontent.com/AmanTasiwal/mental_fitness_tracker/main/prevalence-by-mental-and-substance-use-disorder_AI.csv')"
   ]
  },
  {
   "cell_type": "markdown",
   "id": "dc99d5a9",
   "metadata": {},
   "source": [
    "**Describe Data**"
   ]
  },
  {
   "cell_type": "code",
   "execution_count": null,
   "id": "911e61ba",
   "metadata": {
    "scrolled": true
   },
   "outputs": [],
   "source": [
    "df1.head()"
   ]
  },
  {
   "cell_type": "code",
   "execution_count": null,
   "id": "b21f21df",
   "metadata": {
    "scrolled": true
   },
   "outputs": [],
   "source": [
    "df2.head()"
   ]
  },
  {
   "cell_type": "code",
   "execution_count": null,
   "id": "46011605",
   "metadata": {
    "scrolled": true
   },
   "outputs": [],
   "source": [
    "df1.info()"
   ]
  },
  {
   "cell_type": "code",
   "execution_count": null,
   "id": "f645220c",
   "metadata": {
    "scrolled": true
   },
   "outputs": [],
   "source": [
    "df2.info()"
   ]
  },
  {
   "cell_type": "markdown",
   "id": "8d1b6e94",
   "metadata": {},
   "source": [
    "**Merging data**"
   ]
  },
  {
   "cell_type": "code",
   "execution_count": null,
   "id": "8a939e19",
   "metadata": {
    "scrolled": true
   },
   "outputs": [],
   "source": [
    "dataFrame = pd.merge(df2, df1)"
   ]
  },
  {
   "cell_type": "code",
   "execution_count": null,
   "id": "6bccdcfa",
   "metadata": {
    "scrolled": true
   },
   "outputs": [],
   "source": [
    "dataFrame.head()"
   ]
  },
  {
   "cell_type": "code",
   "execution_count": null,
   "id": "ab9935f5",
   "metadata": {
    "scrolled": true
   },
   "outputs": [],
   "source": [
    "dataFrame.set_axis(['country', 'code', 'year', 'schizophrenia', 'bipolar', 'eating', 'anxiety', 'drug', 'depressive', 'alcohol', 'mentalFitness'], axis = 'columns', inplace = True)\n",
    "dataFrame.head()"
   ]
  },
  {
   "cell_type": "code",
   "execution_count": null,
   "id": "7623d519",
   "metadata": {
    "scrolled": true
   },
   "outputs": [],
   "source": [
    "dataFrame.isnull().sum()"
   ]
  },
  {
   "cell_type": "code",
   "execution_count": null,
   "id": "bdc065f1",
   "metadata": {
    "scrolled": true
   },
   "outputs": [],
   "source": [
    "dataFrame.drop('code', axis = 1 , inplace = True)"
   ]
  },
  {
   "cell_type": "code",
   "execution_count": null,
   "id": "ffb4efe3",
   "metadata": {
    "scrolled": true
   },
   "outputs": [],
   "source": [
    "dataFrame.head()"
   ]
  },
  {
   "cell_type": "code",
   "execution_count": null,
   "id": "0ee4b1ac",
   "metadata": {
    "scrolled": true
   },
   "outputs": [],
   "source": [
    "dataFrame['country'].value_counts()"
   ]
  },
  {
   "cell_type": "code",
   "execution_count": null,
   "id": "3b93dcf6",
   "metadata": {
    "scrolled": true
   },
   "outputs": [],
   "source": [
    "dataFrame.size"
   ]
  },
  {
   "cell_type": "code",
   "execution_count": null,
   "id": "743de0c8",
   "metadata": {
    "scrolled": true
   },
   "outputs": [],
   "source": [
    "dataFrame.shape"
   ]
  },
  {
   "cell_type": "markdown",
   "id": "bb216b8a",
   "metadata": {},
   "source": [
    " **Data Visualization**"
   ]
  },
  {
   "cell_type": "code",
   "execution_count": null,
   "id": "9dddf1d9",
   "metadata": {
    "scrolled": false
   },
   "outputs": [],
   "source": [
    "plt.figure(figsize = (10,5))\n",
    "sns.heatmap(dataFrame.corr(), annot = True, cmap = 'Reds')"
   ]
  },
  {
   "cell_type": "code",
   "execution_count": null,
   "id": "7c99385e",
   "metadata": {
    "scrolled": true
   },
   "outputs": [],
   "source": [
    "average = dataFrame['mentalFitness'].mean()"
   ]
  },
  {
   "cell_type": "code",
   "execution_count": null,
   "id": "2ad32a6b",
   "metadata": {
    "scrolled": false
   },
   "outputs": [],
   "source": [
    "fig1 = px.pie(dataFrame, values= 'mentalFitness', names = 'year' )\n",
    "fig1.show()"
   ]
  },
  {
   "cell_type": "code",
   "execution_count": null,
   "id": "8cde5563",
   "metadata": {
    "scrolled": true
   },
   "outputs": [],
   "source": [
    "dataFrame.info()"
   ]
  },
  {
   "cell_type": "code",
   "execution_count": null,
   "id": "faf7eb51",
   "metadata": {
    "scrolled": true
   },
   "outputs": [],
   "source": [
    "from sklearn.preprocessing import LabelEncoder\n",
    "for i in dataFrame.columns:\n",
    "    if dataFrame[i].dtype == 'object':\n",
    "        dataFrame[i] = LabelEncoder().fit_transform(dataFrame[i])"
   ]
  },
  {
   "cell_type": "markdown",
   "id": "17034907",
   "metadata": {},
   "source": [
    "**Defining Target Variables and Features Variables**"
   ]
  },
  {
   "cell_type": "code",
   "execution_count": null,
   "id": "d7ad06ee",
   "metadata": {
    "scrolled": true
   },
   "outputs": [],
   "source": [
    "dataFrame.columns"
   ]
  },
  {
   "cell_type": "code",
   "execution_count": null,
   "id": "9c4fc957",
   "metadata": {
    "scrolled": true
   },
   "outputs": [],
   "source": [
    "x = dataFrame.drop(['mentalFitness'], axis = 1)"
   ]
  },
  {
   "cell_type": "code",
   "execution_count": null,
   "id": "2098c909",
   "metadata": {
    "scrolled": true
   },
   "outputs": [],
   "source": [
    "y = dataFrame['mentalFitness']"
   ]
  },
  {
   "cell_type": "code",
   "execution_count": null,
   "id": "cd51144a",
   "metadata": {
    "scrolled": true
   },
   "outputs": [],
   "source": [
    "x.shape, y.shape"
   ]
  },
  {
   "cell_type": "markdown",
   "id": "d52b5f31",
   "metadata": {},
   "source": [
    "**Train Test Split**"
   ]
  },
  {
   "cell_type": "code",
   "execution_count": null,
   "id": "97d29a9f",
   "metadata": {
    "scrolled": true
   },
   "outputs": [],
   "source": [
    "from sklearn.model_selection import train_test_split"
   ]
  },
  {
   "cell_type": "code",
   "execution_count": null,
   "id": "26ae2ca7",
   "metadata": {
    "scrolled": true
   },
   "outputs": [],
   "source": [
    "x_train, x_test, y_train, y_test = train_test_split(x, y, test_size = 0.3, random_state = 2539)"
   ]
  },
  {
   "cell_type": "code",
   "execution_count": null,
   "id": "9f1604f8",
   "metadata": {
    "scrolled": true
   },
   "outputs": [],
   "source": [
    "from sklearn.preprocessing import StandardScaler"
   ]
  },
  {
   "cell_type": "code",
   "execution_count": null,
   "id": "95ef51c5",
   "metadata": {
    "scrolled": true
   },
   "outputs": [],
   "source": [
    "sc = StandardScaler()"
   ]
  },
  {
   "cell_type": "code",
   "execution_count": null,
   "id": "966baa9c",
   "metadata": {
    "scrolled": true
   },
   "outputs": [],
   "source": [
    "x_train[['country', 'year', 'schizophrenia', 'bipolar', 'eating', 'anxiety', 'drug', 'depressive', 'alcohol']] = sc.fit_transform(x_train[['country', 'year', 'schizophrenia', 'bipolar', 'eating', 'anxiety', 'drug', 'depressive', 'alcohol']])"
   ]
  },
  {
   "cell_type": "code",
   "execution_count": null,
   "id": "27f23ad4",
   "metadata": {
    "scrolled": true
   },
   "outputs": [],
   "source": [
    "x_test[['country', 'year', 'schizophrenia', 'bipolar', 'eating', 'anxiety', 'drug', 'depressive', 'alcohol']] = sc.fit_transform(x_test[['country', 'year', 'schizophrenia', 'bipolar', 'eating', 'anxiety', 'drug', 'depressive', 'alcohol']])"
   ]
  },
  {
   "cell_type": "markdown",
   "id": "92e6a230",
   "metadata": {},
   "source": [
    "# **Model Importing**"
   ]
  },
  {
   "cell_type": "markdown",
   "id": "e94435ae",
   "metadata": {},
   "source": [
    "**Linear Regression Model**"
   ]
  },
  {
   "cell_type": "code",
   "execution_count": null,
   "id": "2ba40301",
   "metadata": {
    "scrolled": true
   },
   "outputs": [],
   "source": [
    "from sklearn.linear_model import LinearRegression\n",
    "from sklearn.metrics import mean_squared_error, r2_score"
   ]
  },
  {
   "cell_type": "code",
   "execution_count": null,
   "id": "54636a33",
   "metadata": {
    "scrolled": true
   },
   "outputs": [],
   "source": [
    "model1 = LinearRegression()\n",
    "model1.fit(x_train, y_train)"
   ]
  },
  {
   "cell_type": "code",
   "execution_count": null,
   "id": "ba0c471e",
   "metadata": {
    "scrolled": true
   },
   "outputs": [],
   "source": [
    "y_train_pred = model1.predict(x_train)"
   ]
  },
  {
   "cell_type": "code",
   "execution_count": null,
   "id": "08743108",
   "metadata": {
    "scrolled": true
   },
   "outputs": [],
   "source": [
    "meansquare = mean_squared_error(y_train , y_train_pred)"
   ]
  },
  {
   "cell_type": "code",
   "execution_count": null,
   "id": "1dea7b58",
   "metadata": {
    "scrolled": true
   },
   "outputs": [],
   "source": [
    "rootmeansquare = (np.sqrt(mean_squared_error(y_train, y_train_pred)))"
   ]
  },
  {
   "cell_type": "code",
   "execution_count": null,
   "id": "4d95b3bb",
   "metadata": {
    "scrolled": true
   },
   "outputs": [],
   "source": [
    "r2 = r2_score(y_train, y_train_pred)"
   ]
  },
  {
   "cell_type": "code",
   "execution_count": null,
   "id": "81c78e6e",
   "metadata": {
    "scrolled": true
   },
   "outputs": [],
   "source": [
    "y_train_pred = model1.predict(x_train)\n",
    "meansquare = mean_squared_error(y_train, y_train_pred)\n",
    "rootmeansquare = (np.sqrt(mean_squared_error(y_train, y_train_pred)))\n",
    "r2 = r2_score(y_train, y_train_pred)"
   ]
  },
  {
   "cell_type": "markdown",
   "id": "2a4575fd",
   "metadata": {},
   "source": [
    "**Random Forest Regressor**"
   ]
  },
  {
   "cell_type": "code",
   "execution_count": null,
   "id": "9d3985aa",
   "metadata": {
    "scrolled": true
   },
   "outputs": [],
   "source": [
    "from sklearn.ensemble import RandomForestRegressor"
   ]
  },
  {
   "cell_type": "code",
   "execution_count": null,
   "id": "e8745273",
   "metadata": {
    "scrolled": true
   },
   "outputs": [],
   "source": [
    "model2 = RandomForestRegressor()\n",
    "model2.fit(x_train, y_train)"
   ]
  },
  {
   "cell_type": "code",
   "execution_count": null,
   "id": "41315614",
   "metadata": {
    "scrolled": true
   },
   "outputs": [],
   "source": [
    "y_train_pred = model2.predict(x_train)\n",
    "meansquare = mean_squared_error(y_train, y_train_pred)\n",
    "rootmeansquare = (np.sqrt(mean_squared_error(y_train, y_train_pred)))\n",
    "r2 = r2_score(y_train, y_train_pred)\n",
    "                  "
   ]
  },
  {
   "cell_type": "markdown",
   "id": "6880600a",
   "metadata": {},
   "source": [
    "# Evalution"
   ]
  },
  {
   "cell_type": "code",
   "execution_count": null,
   "id": "97f3764c",
   "metadata": {
    "scrolled": true
   },
   "outputs": [],
   "source": [
    "y_test_pred = model1.predict(x_test)\n",
    "meansquared = mean_squared_error(y_test, y_test_pred)\n",
    "rootmeansquared = (np.sqrt(mean_squared_error(y_test, y_test_pred)))\n",
    "r2 = r2_score(y_test, y_test_pred)"
   ]
  },
  {
   "cell_type": "code",
   "execution_count": 45,
   "id": "d567e3f0",
   "metadata": {
    "scrolled": true
   },
   "outputs": [
    {
     "name": "stdout",
     "output_type": "stream",
     "text": [
      "for linear regression model name model1:\n",
      "Mean Square Error is 0.005284885794239982\n",
      "Root Mean Square Error is 0.0726972199897629\n",
      "R2 score is 0.9806063192070961\n"
     ]
    }
   ],
   "source": [
    "print(\"for linear regression model name model1:\")\n",
    "print(\"Mean Square Error is {}\".format(meansquare))\n",
    "print(\"Root Mean Square Error is {}\".format(rootmeansquare))\n",
    "print(\"R2 score is {}\".format(r2))"
   ]
  },
  {
   "cell_type": "code",
   "execution_count": null,
   "id": "23ba5c33",
   "metadata": {
    "scrolled": true
   },
   "outputs": [],
   "source": [
    "y_test_pred = model2.predict(x_test)\n",
    "meansquared = mean_squared_error(y_test, y_test_pred)\n",
    "rootmeansquared = (np.sqrt(mean_squared_error(y_test, y_test_pred)))\n",
    "r2 = r2_score(y_test, y_test_pred)"
   ]
  },
  {
   "cell_type": "code",
   "execution_count": 46,
   "id": "a604201f",
   "metadata": {
    "scrolled": true
   },
   "outputs": [
    {
     "name": "stdout",
     "output_type": "stream",
     "text": [
      "for linear regression model name model1:\n",
      "Mean Square Error is 0.005284885794239982\n",
      "Root Mean Square Error is 0.0726972199897629\n",
      "R2 score is 0.9806063192070961\n"
     ]
    }
   ],
   "source": [
    "print(\"for linear regression model name model1:\")\n",
    "print(\"Mean Square Error is {}\".format(meansquare))\n",
    "print(\"Root Mean Square Error is {}\".format(rootmeansquare))\n",
    "print(\"R2 score is {}\".format(r2))"
   ]
  },
  {
   "cell_type": "markdown",
   "id": "538861eb",
   "metadata": {},
   "source": [
    "**The best model for predicting the mental fitness is Random Forest Regressor**"
   ]
  }
 ],
 "metadata": {
  "kernelspec": {
   "display_name": "Python 3 (ipykernel)",
   "language": "python",
   "name": "python3"
  },
  "language_info": {
   "codemirror_mode": {
    "name": "ipython",
    "version": 3
   },
   "file_extension": ".py",
   "mimetype": "text/x-python",
   "name": "python",
   "nbconvert_exporter": "python",
   "pygments_lexer": "ipython3",
   "version": "3.10.9"
  }
 },
 "nbformat": 4,
 "nbformat_minor": 5
}
